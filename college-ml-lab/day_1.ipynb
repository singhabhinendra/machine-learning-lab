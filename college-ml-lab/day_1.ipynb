{
  "nbformat": 4,
  "nbformat_minor": 0,
  "metadata": {
    "colab": {
      "provenance": []
    },
    "kernelspec": {
      "name": "python3",
      "display_name": "Python 3"
    },
    "language_info": {
      "name": "python"
    }
  },
  "cells": [
    {
      "cell_type": "markdown",
      "source": [
        "1-Given two vectors a=[1,3,-5] and b=[4,-2,-1] ,calculate the dot prduct of these vectors.\n",
        "\n",
        "---\n",
        "\n"
      ],
      "metadata": {
        "id": "UF0XlWRF-z0n"
      }
    },
    {
      "cell_type": "code",
      "source": [
        "import numpy as numpy\n",
        "a=numpy.array([1,3,-5])\n",
        "b=numpy.array([4,-2,-1])\n",
        "dot=numpy.dot(a,b)\n",
        "print(dot)"
      ],
      "metadata": {
        "colab": {
          "base_uri": "https://localhost:8080/"
        },
        "id": "wT9pFHwn_Hca",
        "outputId": "9c5abfc4-f7fa-468f-fe24-525dedbf097a"
      },
      "execution_count": null,
      "outputs": [
        {
          "output_type": "stream",
          "name": "stdout",
          "text": [
            "3\n"
          ]
        }
      ]
    },
    {
      "cell_type": "markdown",
      "source": [
        "2-Given the dataset data=[2,4,4,4,5,5,7,9] ,calculate the mean,variance, and standard deviation of the dataset."
      ],
      "metadata": {
        "id": "JID__P1Z_dU1"
      }
    },
    {
      "cell_type": "code",
      "source": [
        "import numpy as np\n",
        "data=np.array([2,4,4,4,5,5,7,9])\n",
        "mean=np.mean(data)\n",
        "variance=np.var(data)\n",
        "std_dev=np.std(data)\n",
        "print(\"Mean:\",mean)\n",
        "print(\"Variance:\",variance)\n",
        "print(\"Standard Deviation:\",std_dev)\n",
        "print(f\"Mean: {mean},Variance: {variance},standard: {std_dev}\")\n"
      ],
      "metadata": {
        "colab": {
          "base_uri": "https://localhost:8080/"
        },
        "id": "UWpSKXAA_ZII",
        "outputId": "b848ba79-b214-4cec-94af-d08212a582f2"
      },
      "execution_count": null,
      "outputs": [
        {
          "output_type": "stream",
          "name": "stdout",
          "text": [
            "Mean: 5.0\n",
            "Variance: 4.0\n",
            "Standard Deviation: 2.0\n",
            "Mean: 5.0,Variance: 4.0,standard: 2.0\n"
          ]
        }
      ]
    },
    {
      "cell_type": "markdown",
      "source": [],
      "metadata": {
        "id": "4emqvQLJ_h8h"
      }
    },
    {
      "cell_type": "markdown",
      "source": [],
      "metadata": {
        "id": "ZiHMkIleBf8u"
      }
    },
    {
      "cell_type": "code",
      "source": [
        "import matplotlib.pyplot as plt\n",
        "import numpy as np\n",
        "# define the slope and intercept\n",
        "m=3\n",
        "c=-2\n",
        "#Generative x values\n",
        "x=np.linspace(-5,5,100)\n",
        "#calculate y values\n",
        "y=m*x+c\n",
        "#plot the line\n",
        "plt.plot(x,y,label=f'y={m}x+{c}')\n",
        "plt.xlabel('x')\n",
        "plt.ylabel('y')\n",
        "plt.title('Plot of a line')\n",
        "plt.grid(True)\n",
        "plt.show()"
      ],
      "metadata": {
        "colab": {
          "base_uri": "https://localhost:8080/",
          "height": 472
        },
        "id": "CidZ46XIBpKH",
        "outputId": "6bf48e55-9b52-418f-b455-035e03f3d2ef"
      },
      "execution_count": null,
      "outputs": [
        {
          "output_type": "display_data",
          "data": {
            "text/plain": [
              "<Figure size 640x480 with 1 Axes>"
            ],
            "image/png": "[encoded data removed]"
          },
          "metadata": {}
        }
      ]
    },
    {
      "cell_type": "markdown",
      "source": [
        "4-Create a NumPy array with the elements [2,4,6,8,10] ,find the square of each elements of array."
      ],
      "metadata": {
        "id": "VD4-l5JADkZq"
      }
    },
    {
      "cell_type": "code",
      "source": [],
      "metadata": {
        "id": "jkLgvcagD2zK"
      },
      "execution_count": null,
      "outputs": []
    },
    {
      "cell_type": "markdown",
      "source": [
        "5-Given the dataset X=[1,2,3,4] and Y=[2,2.5,3,3.5], manually calculate the slope m and intercept c of the best-fit line using the linear regression formulas."
      ],
      "metadata": {
        "id": "tyeQ8CfPD3Hv"
      }
    },
    {
      "cell_type": "code",
      "source": [
        "import numpy as np\n",
        "#data\n",
        "X=np.array([1,2,3,4])\n",
        "y=np.array([2,2.5,3,3.5])\n",
        "n=len(X)\n",
        "mean_X=np.mean(X)\n",
        "mean_y=np.mean(y)\n",
        "#calculate the intercept (C)\n",
        "numerator=np.sum((X -mean_X)*(y-mean_y))\n",
        "denominator=np.sum((X-mean_X)**2)\n",
        "m=numerator/denominator\n",
        "#calculate the slope (m)\n",
        "c=mean_y -(m*mean_X)\n",
        "print(f\"slope(m) :{m}, Intercept (c): {c}\")\n"
      ],
      "metadata": {
        "colab": {
          "base_uri": "https://localhost:8080/"
        },
        "id": "0uLMJ6u5Ed54",
        "outputId": "89e76ca2-512b-4b58-b597-45c655968fb1"
      },
      "execution_count": null,
      "outputs": [
        {
          "output_type": "stream",
          "name": "stdout",
          "text": [
            "slope(m) :0.5, Intercept (c): 1.5\n"
          ]
        }
      ]
    },
    {
      "cell_type": "markdown",
      "source": [
        "6- Create a scatter plot for the following dataset: X=[1,2,3,4,5] , and y=[2,3,5,7,11], Comment on the relationship between X and Y."
      ],
      "metadata": {
        "id": "TRFCt0_Z_7FZ"
      }
    },
    {
      "cell_type": "code",
      "source": [],
      "metadata": {
        "id": "ORo8SyxjGAjo"
      },
      "execution_count": null,
      "outputs": []
    },
    {
      "cell_type": "markdown",
      "source": [
        "7- Implement a simple gradient descent algorithm to minimize the cost function for the dataset X=[1,2,3,4] and y=[2,4,6,8].Start with an initial Slope m=0 and intercept c=0 and run the algorithm for 100 iterations with a learning rate of 0.01.\n",
        "\n"
      ],
      "metadata": {
        "id": "jcFxC0_dATzM"
      }
    },
    {
      "cell_type": "code",
      "source": [],
      "metadata": {
        "id": "frtYIP5nA8wg"
      },
      "execution_count": null,
      "outputs": []
    },
    {
      "cell_type": "markdown",
      "source": [
        "LAB Question-\n",
        "Estimate parameters of a model based on Linear Regression method using a given set of training data set."
      ],
      "metadata": {
        "id": "Uz4HcegaA9L2"
      }
    },
    {
      "cell_type": "markdown",
      "source": [],
      "metadata": {
        "id": "b4O5ZvK0BPE9"
      }
    }
  ]
}