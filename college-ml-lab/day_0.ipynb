{
  "nbformat": 4,
  "nbformat_minor": 0,
  "metadata": {
    "colab": {
      "provenance": []
    },
    "kernelspec": {
      "name": "python3",
      "display_name": "Python 3"
    },
    "language_info": {
      "name": "python"
    }
  },
  "cells": [
    {
      "cell_type": "markdown",
      "source": [
        "1-Write a python code to reverse a string."
      ],
      "metadata": {
        "id": "9L08LmkIyI5n"
      }
    },
    {
      "cell_type": "code",
      "source": [
        "string=\"Million of problems,one Solution\"\n",
        "rev_string=(string)[::-1]\n",
        "print(rev_string);"
      ],
      "metadata": {
        "colab": {
          "base_uri": "https://localhost:8080/"
        },
        "id": "7vpzf2R6yVLx",
        "outputId": "a9c9d537-d77a-4ab0-e70a-1d8734120bf7"
      },
      "execution_count": null,
      "outputs": [
        {
          "output_type": "stream",
          "name": "stdout",
          "text": [
            "noituloS eno,smelborp fo noilliM\n"
          ]
        }
      ]
    },
    {
      "cell_type": "markdown",
      "source": [
        "2-Write a python code to determine id a string is a palindrome."
      ],
      "metadata": {
        "id": "yxjBnDy7zI7D"
      }
    },
    {
      "cell_type": "code",
      "source": [
        "string=\"abhinendra\"\n",
        "rev_string=string[::-1]\n",
        "if string==rev_string:\n",
        "  print(\"String is palindrome\")\n",
        "else:\n",
        "    print(\"String is not pallindrome\")\n",
        "\n"
      ],
      "metadata": {
        "id": "u9wLlwwmzYlp",
        "colab": {
          "base_uri": "https://localhost:8080/"
        },
        "outputId": "bcd9fb95-1fc2-4d20-96a3-d10526c86e05"
      },
      "execution_count": null,
      "outputs": [
        {
          "output_type": "stream",
          "name": "stdout",
          "text": [
            "String is not pallindrome\n"
          ]
        }
      ]
    },
    {
      "cell_type": "markdown",
      "source": [
        "3-Write a python code to determine if a number is an palindrome."
      ],
      "metadata": {
        "id": "6bjhRLvd0aTS"
      }
    },
    {
      "cell_type": "code",
      "source": [
        "number=input (\"Write a number\");\n",
        "rev_number=number[::-1]\n",
        "if number==rev_number:\n",
        "  print(\"Number is palindrome\")\n",
        "else:\n",
        "  print(\"Number is not palindrome\")\n"
      ],
      "metadata": {
        "id": "3pSajVNv0mEK",
        "colab": {
          "base_uri": "https://localhost:8080/"
        },
        "outputId": "2c3e1de2-56bc-4ef2-9548-188e51f01c05"
      },
      "execution_count": null,
      "outputs": [
        {
          "output_type": "stream",
          "name": "stdout",
          "text": [
            "Write a number1222221\n",
            "Number is palindrome\n"
          ]
        }
      ]
    },
    {
      "cell_type": "markdown",
      "source": [
        "4-Write a python code to reverse a list without using built-in functions."
      ],
      "metadata": {
        "id": "7J5zvlCO0ork"
      }
    },
    {
      "cell_type": "code",
      "source": [
        "football_team=[\"Raman\",\"Radhe\",\"Shyam\",\"Manohar\",\"Kishan\",\"dhruv\"]\n",
        "print(football_team[::-1])\n",
        "\n"
      ],
      "metadata": {
        "id": "oWlrLyG-0wnz",
        "colab": {
          "base_uri": "https://localhost:8080/"
        },
        "outputId": "4883ff49-81a4-4d0d-9122-96084c9a9ce2"
      },
      "execution_count": null,
      "outputs": [
        {
          "output_type": "stream",
          "name": "stdout",
          "text": [
            "['dhruv', 'Kishan', 'Manohar', 'Shyam', 'Radhe', 'Raman']\n"
          ]
        }
      ]
    },
    {
      "cell_type": "markdown",
      "source": [
        "5-Write a python code to find the minimum & maximum element in a array."
      ],
      "metadata": {
        "id": "PNJoXYig0xaV"
      }
    },
    {
      "cell_type": "code",
      "source": [
        "list=[]\n",
        "n=int(input(\"range of elements\"))\n",
        "for i in range(0,n):\n",
        "  ele=int(input())\n",
        "  arr=list.append(ele)\n",
        "print(list)\n",
        "print(max(list))\n"
      ],
      "metadata": {
        "colab": {
          "base_uri": "https://localhost:8080/"
        },
        "id": "ZtW21qHdVOAq",
        "outputId": "e635eaf9-af71-4b81-b40f-e232c6335101"
      },
      "execution_count": null,
      "outputs": [
        {
          "output_type": "stream",
          "name": "stdout",
          "text": [
            "range of elements5\n",
            "1\n",
            "2\n",
            "3\n",
            "4\n",
            "5\n",
            "[1, 2, 3, 4, 5]\n",
            "5\n",
            "1\n"
          ]
        }
      ]
    },
    {
      "cell_type": "markdown",
      "source": [
        "1- Write a python code to implement Numpy Task given below."
      ],
      "metadata": {
        "id": "aOAHckgrVUcs"
      }
    },
    {
      "cell_type": "markdown",
      "source": [
        "1)-Take 10 numbers from users and save into the array."
      ],
      "metadata": {
        "id": "ngK0tIHO5TQo"
      }
    },
    {
      "cell_type": "code",
      "source": [
        "import numpy as np\n",
        "\n",
        "# Initialize an empty list to store the elements\n",
        "elements = []\n",
        "for i in range(\"10\"):\n",
        "    ele = int(input(f\"Enter element {i+1}: \"))\n",
        "    elements.append(ele)\n",
        "\n",
        "# Convert the list to a NumPy array\n",
        "array = np.array(elements)\n",
        "\n",
        "print(\"The NumPy array is:\", array)\n"
      ],
      "metadata": {
        "id": "0F1Q8AH_5fn8",
        "colab": {
          "base_uri": "https://localhost:8080/",
          "height": 211
        },
        "outputId": "a53e17a1-5421-4835-aadd-75090eefe0d6"
      },
      "execution_count": null,
      "outputs": [
        {
          "output_type": "error",
          "ename": "TypeError",
          "evalue": "'int' object is not callable",
          "traceback": [
            "\u001b[0;31m---------------------------------------------------------------------------\u001b[0m",
            "\u001b[0;31mTypeError\u001b[0m                                 Traceback (most recent call last)",
            "\u001b[0;32m<ipython-input-58-bef312080c6c>\u001b[0m in \u001b[0;36m<cell line: 5>\u001b[0;34m()\u001b[0m\n\u001b[1;32m      3\u001b[0m \u001b[0;31m# Initialize an empty list to store the elements\u001b[0m\u001b[0;34m\u001b[0m\u001b[0;34m\u001b[0m\u001b[0m\n\u001b[1;32m      4\u001b[0m \u001b[0melements\u001b[0m \u001b[0;34m=\u001b[0m \u001b[0;34m[\u001b[0m\u001b[0;34m]\u001b[0m\u001b[0;34m\u001b[0m\u001b[0;34m\u001b[0m\u001b[0m\n\u001b[0;32m----> 5\u001b[0;31m \u001b[0;32mfor\u001b[0m \u001b[0mi\u001b[0m \u001b[0;32min\u001b[0m \u001b[0mrange\u001b[0m\u001b[0;34m(\u001b[0m\u001b[0;36m10\u001b[0m\u001b[0;34m)\u001b[0m\u001b[0;34m:\u001b[0m\u001b[0;34m\u001b[0m\u001b[0;34m\u001b[0m\u001b[0m\n\u001b[0m\u001b[1;32m      6\u001b[0m     \u001b[0mele\u001b[0m \u001b[0;34m=\u001b[0m \u001b[0mint\u001b[0m\u001b[0;34m(\u001b[0m\u001b[0minput\u001b[0m\u001b[0;34m(\u001b[0m\u001b[0;34mf\"Enter element {i+1}: \"\u001b[0m\u001b[0;34m)\u001b[0m\u001b[0;34m)\u001b[0m\u001b[0;34m\u001b[0m\u001b[0;34m\u001b[0m\u001b[0m\n\u001b[1;32m      7\u001b[0m     \u001b[0melements\u001b[0m\u001b[0;34m.\u001b[0m\u001b[0mappend\u001b[0m\u001b[0;34m(\u001b[0m\u001b[0mele\u001b[0m\u001b[0;34m)\u001b[0m\u001b[0;34m\u001b[0m\u001b[0;34m\u001b[0m\u001b[0m\n",
            "\u001b[0;31mTypeError\u001b[0m: 'int' object is not callable"
          ]
        }
      ]
    },
    {
      "cell_type": "markdown",
      "source": [
        "2)-Print 2 to 8 numbers in numpy."
      ],
      "metadata": {
        "id": "BhqI-i5u5gEP"
      }
    },
    {
      "cell_type": "code",
      "source": [],
      "metadata": {
        "id": "39MLfiZI_06u"
      },
      "execution_count": null,
      "outputs": []
    },
    {
      "cell_type": "markdown",
      "source": [
        "3)-Reshape the array in 5th dimensional array."
      ],
      "metadata": {
        "id": "wVafjWuR_2Hi"
      }
    },
    {
      "cell_type": "code",
      "source": [],
      "metadata": {
        "id": "CR4C7yY8_-jl"
      },
      "execution_count": null,
      "outputs": []
    },
    {
      "cell_type": "markdown",
      "source": [
        "2- Write a python code to implement Numpy Task given below."
      ],
      "metadata": {
        "id": "iru9JLSx__L5"
      }
    },
    {
      "cell_type": "code",
      "source": [],
      "metadata": {
        "id": "89oR-VLjANRJ"
      },
      "execution_count": null,
      "outputs": []
    },
    {
      "cell_type": "markdown",
      "source": [
        "1)-Write a python code to implement Numpy Task given below.\n"
      ],
      "metadata": {
        "id": "WxQDBJ91AN_o"
      }
    },
    {
      "cell_type": "code",
      "source": [],
      "metadata": {
        "id": "xOGJgOEu9dNP"
      },
      "execution_count": null,
      "outputs": []
    },
    {
      "cell_type": "markdown",
      "source": [
        "2)-Sort the numbers without using the sort () function."
      ],
      "metadata": {
        "id": "Ufotv7C_9j0n"
      }
    },
    {
      "cell_type": "code",
      "source": [],
      "metadata": {
        "id": "xPiqChxt9yM-"
      },
      "execution_count": null,
      "outputs": []
    },
    {
      "cell_type": "markdown",
      "source": [
        "3)- Split the array into 4 Sections."
      ],
      "metadata": {
        "id": "HZM02KZq9y8j"
      }
    },
    {
      "cell_type": "code",
      "source": [],
      "metadata": {
        "id": "kZXRsTZv95Ys"
      },
      "execution_count": null,
      "outputs": []
    },
    {
      "cell_type": "markdown",
      "source": [
        "4)- Join the 4 sections into 2 sections and print the array."
      ],
      "metadata": {
        "id": "x1aaNHJZ95qx"
      }
    },
    {
      "cell_type": "code",
      "source": [],
      "metadata": {
        "id": "rbHhUkRr-DJG"
      },
      "execution_count": null,
      "outputs": []
    },
    {
      "cell_type": "markdown",
      "source": [
        "Pandas\n"
      ],
      "metadata": {
        "id": "QpSFhB3I-Dh5"
      }
    },
    {
      "cell_type": "markdown",
      "source": [
        "1- Create a dataFrame to add columns like Name,Roll,Department & College Name."
      ],
      "metadata": {
        "id": "OPIMrpiE-Na8"
      }
    },
    {
      "cell_type": "code",
      "source": [],
      "metadata": {
        "id": "C6p6joZh-bFG"
      },
      "execution_count": null,
      "outputs": []
    },
    {
      "cell_type": "markdown",
      "source": [
        "2-Fill the columns with a minimum 10 columns."
      ],
      "metadata": {
        "id": "wFcliKi9-bbo"
      }
    },
    {
      "cell_type": "code",
      "source": [],
      "metadata": {
        "id": "spmwQ6JW-iFg"
      },
      "execution_count": null,
      "outputs": []
    },
    {
      "cell_type": "markdown",
      "source": [
        "3-Analyze the dataFrame with the Funcions Head() & Tail."
      ],
      "metadata": {
        "id": "LwD1qYlx-irw"
      }
    },
    {
      "cell_type": "code",
      "source": [],
      "metadata": {
        "id": "oo6-VxUR-r8Z"
      },
      "execution_count": null,
      "outputs": []
    },
    {
      "cell_type": "markdown",
      "source": [
        "4-Use info() & describe() function."
      ],
      "metadata": {
        "id": "Cvqnu6gb-sjQ"
      }
    },
    {
      "cell_type": "code",
      "source": [],
      "metadata": {
        "id": "0YPEANvB-zI_"
      },
      "execution_count": null,
      "outputs": []
    },
    {
      "cell_type": "markdown",
      "source": [
        "5- Find out co-relations between the columns.\n"
      ],
      "metadata": {
        "id": "FRqxJOd2-z0M"
      }
    },
    {
      "cell_type": "code",
      "source": [],
      "metadata": {
        "id": "qlT9wwnq-8TK"
      },
      "execution_count": null,
      "outputs": []
    },
    {
      "cell_type": "markdown",
      "source": [
        "6- Convert the DataFrame into * CSV & *.excel file."
      ],
      "metadata": {
        "id": "wrOno8FP-8uK"
      }
    },
    {
      "cell_type": "code",
      "source": [],
      "metadata": {
        "id": "0HMHoZe3_GCa"
      },
      "execution_count": null,
      "outputs": []
    }
  ]
}